{
 "cells": [
  {
   "cell_type": "markdown",
   "id": "25d7736c-ba17-4aff-b6bb-66eba20fbf4e",
   "metadata": {},
   "source": [
    "# Lab | List, Dict and Set Comprehension"
   ]
  },
  {
   "cell_type": "markdown",
   "id": "7dd3cbde-675a-4b81-92c3-f728846dbe06",
   "metadata": {},
   "source": [
    "## Exercise: Managing Customer Orders Optimized with Comprehension"
   ]
  },
  {
   "cell_type": "markdown",
   "id": "5d500160-2fb7-4777-b5e4-09d45ebaf328",
   "metadata": {},
   "source": [
    "In the previous exercise, you developed a program to manage customer orders and inventory. Now, let's take it a step further and incorporate comprehension into your code.\n",
    "\n",
    "Follow the steps below to complete the exercise:\n",
    "\n",
    "1. Review your code from the previous exercise and identify areas where you can apply comprehension to simplify and streamline your code. \n",
    "\n",
    "    - *Hint: Apply it to initialize inventory, updating the inventory and printing the updated inventory.*\n",
    "    \n",
    "    - For example, in initializing the inventory, we could have:\n",
    "    \n",
    "        ```python\n",
    "        def initialize_inventory(products):\n",
    "            inventory = {product: int(input(f\"Enter the quantity of {product}s available: \")) for product in products}\n",
    "            return inventory\n",
    "\n",
    "        ```\n",
    "<br>\n",
    "    \n",
    "    \n",
    "2. Modify the function get_customer_orders so it prompts the user to enter the number of customer orders and gathers the product names using a loop and user input. Use comprehension.\n",
    "\n",
    "3. Add a new function to calculate the total price of the customer order. For each product in customer_orders, prompt the user to enter the price of that product. Use comprehension to calculate the total price. Note: assume that the user can only have 1 unit of each product.\n",
    "\n",
    "4. Modify the update_inventory function to remove the product from the inventory if its quantity becomes zero after fulfilling the customer orders. Use comprehension to filter out the products with a quantity of zero from the inventory.\n",
    "\n",
    "5. Print the total price of the customer order.\n",
    "\n",
    "Your code should produce output similar to the following:\n",
    "\n",
    "```python\n",
    "Enter the quantity of t-shirts available:  5\n",
    "Enter the quantity of mugs available:  4\n",
    "Enter the quantity of hats available:  3\n",
    "Enter the quantity of books available:  2\n",
    "Enter the quantity of keychains available:  1\n",
    "Enter the number of customer orders:  2\n",
    "Enter the name of a product that a customer wants to order:  hat\n",
    "Enter the name of a product that a customer wants to order:  keychain\n",
    "\n",
    "Order Statistics:\n",
    "Total Products Ordered: 2\n",
    "Percentage of Unique Products Ordered: 40.0\n",
    "\n",
    "Updated Inventory:\n",
    "t-shirt: 5\n",
    "mug: 4\n",
    "hat: 2\n",
    "book: 2\n",
    "Enter the price of keychain:  5\n",
    "Enter the price of hat:  10\n",
    "Total Price: 15.0\n",
    "\n",
    "```\n"
   ]
  },
  {
   "cell_type": "code",
   "execution_count": 9,
   "id": "4fe6eed3-15b7-420a-a447-768955250d9a",
   "metadata": {},
   "outputs": [],
   "source": [
    "def initialize_inventory(products):\n",
    "    \"\"\" initializing the inventory by asking user for input \"\"\"\n",
    "    \n",
    "    inventory = {product: int(input(f\"Enter the quantity of {product}s available: \")) for product in products} \n",
    "    \n",
    "    return inventory\n",
    "\n",
    "def get_customer_orders():\n",
    "    \"\"\" asking user for order using a loop until no more orders wanted  \"\"\"\n",
    "    \n",
    "    number_orders = int(input(\"How many products would you like to order?\"))\n",
    "    customer_orders = set(input(f\"Please insert the name of the product for your order: \").lower() for i in range(number_orders))\n",
    "    order_more = input(\"Would you like to order more products? yes/no \").lower()\n",
    "        \n",
    "    while order_more == \"yes\":\n",
    "        number_orders = int(input(\"How many more products would you like to order?\"))\n",
    "        customer_orders_update = {input(f\"Please enter the name of the product you want to order: \").lower() for i in range(number_orders)}\n",
    "        customer_orders.update(customer_orders_update)\n",
    "        order_more = input(\"Would you like to order more products? yes/no \").lower()\n",
    "        \n",
    "    print(\"Thank you, your order is now completed\")\n",
    "    print(f\"Here is a list of your ordered products: {customer_orders}\")\n",
    "    \n",
    "    return customer_orders\n",
    "\n",
    "def update_inventory(customer_orders, inventory):\n",
    "    \"\"\" updating the inventory with the customer orders collected and erasing products which quantities became 0 \"\"\"\n",
    "    \n",
    "    inventory = {key: (value -1 if key in customer_orders else value) for key, value in inventory.items()}\n",
    "\n",
    "    def is_zero(item): # function to create boolean to check if quantity becomes 0\n",
    "        key, value = item\n",
    "        if value > 0:\n",
    "            return True\n",
    "        else:\n",
    "            return False\n",
    "    \n",
    "    inventory_update = dict(filter(is_zero, inventory.items()))\n",
    "    \n",
    "    return inventory_update\n",
    "\n",
    "\n",
    "def calculate_total_price(customer_orders):\n",
    "    \"\"\" asking user for prices for ordered prodicts and calculating the total \"\"\"\n",
    "        \n",
    "    price = [int(input(f\"Please enter the price of product {i}:\")) for i in customer_orders]    \n",
    "    total_price = sum(price)\n",
    "    print(f\"The total price for the customer order is: {total_price}\")\n",
    "    \n",
    "    return total_price\n",
    "\n",
    "\n",
    "def print_updated_inventory(inventory_update):\n",
    "    \"\"\" print final inventory \"\"\"\n",
    "    \n",
    "    print(f\"The inventory now contains the following products and quantities: {inventory_update}\")\n"
   ]
  },
  {
   "cell_type": "code",
   "execution_count": 11,
   "id": "3cb383de-7557-478e-a0c3-9aab44bab7fb",
   "metadata": {},
   "outputs": [
    {
     "name": "stdin",
     "output_type": "stream",
     "text": [
      "Enter the quantity of hats available:  5\n",
      "Enter the quantity of mugs available:  2\n",
      "Enter the quantity of watchs available:  1\n",
      "Enter the quantity of houses available:  2\n",
      "Enter the quantity of dogs available:  4\n",
      "How many products would you like to order? 2\n",
      "Please insert the name of the product for your order:  hat\n",
      "Please insert the name of the product for your order:  watch\n",
      "Would you like to order more products? yes/no  yes\n",
      "How many more products would you like to order? 1\n",
      "Please enter the name of the product you want to order:  house\n",
      "Would you like to order more products? yes/no  no\n"
     ]
    },
    {
     "name": "stdout",
     "output_type": "stream",
     "text": [
      "Thank you, your order is now completed\n",
      "Here is a list of your ordered products: {'house', 'hat', 'watch'}\n"
     ]
    },
    {
     "name": "stdin",
     "output_type": "stream",
     "text": [
      "Please enter the price of product house: 333\n",
      "Please enter the price of product hat: 22\n",
      "Please enter the price of product watch: 54\n"
     ]
    },
    {
     "name": "stdout",
     "output_type": "stream",
     "text": [
      "The total price for the customer order is: 409\n",
      "The inventory now contains the following products and quantities: {'hat': 4, 'mug': 2, 'house': 1, 'dog': 4}\n"
     ]
    }
   ],
   "source": [
    "products = [\"hat\", \"mug\", \"watch\", \"house\", \"dog\"] # defining list of products\n",
    "inventory = initialize_inventory(products) # initializing inventory and \"extracting\" it from the function\n",
    "customer_orders = get_customer_orders() # initializing and collecting customer_order and also \"extracting\" it from the function \n",
    "calculate_total_price(customer_orders) # getting the price for each ordered product and calculating the total price\n",
    "inventory_update = update_inventory(customer_orders, inventory) # updating the inventory with the customer_order also \"extracting\" it from the function\n",
    "print_updated_inventory(inventory_update) # print the final inventory"
   ]
  },
  {
   "cell_type": "code",
   "execution_count": null,
   "id": "8ad2739b-4776-4600-b46d-a887ad376fa7",
   "metadata": {},
   "outputs": [],
   "source": []
  }
 ],
 "metadata": {
  "kernelspec": {
   "display_name": "Python 3 (ipykernel)",
   "language": "python",
   "name": "python3"
  },
  "language_info": {
   "codemirror_mode": {
    "name": "ipython",
    "version": 3
   },
   "file_extension": ".py",
   "mimetype": "text/x-python",
   "name": "python",
   "nbconvert_exporter": "python",
   "pygments_lexer": "ipython3",
   "version": "3.11.7"
  }
 },
 "nbformat": 4,
 "nbformat_minor": 5
}
